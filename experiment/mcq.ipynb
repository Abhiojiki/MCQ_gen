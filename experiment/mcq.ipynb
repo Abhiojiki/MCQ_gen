{
 "cells": [
  {
   "cell_type": "code",
   "execution_count": 1,
   "metadata": {},
   "outputs": [],
   "source": [
    "import os\n",
    "import json\n",
    "import pandas as pd\n",
    "import traceback"
   ]
  },
  {
   "cell_type": "code",
   "execution_count": 2,
   "metadata": {},
   "outputs": [
    {
     "data": {
      "text/plain": [
       "True"
      ]
     },
     "execution_count": 2,
     "metadata": {},
     "output_type": "execute_result"
    }
   ],
   "source": [
    "from langchain_google_genai import ChatGoogleGenerativeAI\n",
    "from dotenv import load_dotenv\n",
    "load_dotenv()"
   ]
  },
  {
   "cell_type": "code",
   "execution_count": 3,
   "metadata": {},
   "outputs": [],
   "source": [
    "Key = os.getenv(\"GOOGLE_API_KEY\")"
   ]
  },
  {
   "cell_type": "code",
   "execution_count": 4,
   "metadata": {},
   "outputs": [],
   "source": [
    "client = ChatGoogleGenerativeAI(google_api_key=Key, temperature=0.6, model=\"gemini-pro\")"
   ]
  },
  {
   "cell_type": "code",
   "execution_count": 5,
   "metadata": {},
   "outputs": [
    {
     "data": {
      "text/plain": [
       "AIMessage(content='I am Gemini, a multimodal AI language model developed by Google. I am designed to understand and generate human language, answer questions, and provide information. I am trained on a massive dataset of text and code, and I am constantly learning and improving.')"
      ]
     },
     "execution_count": 5,
     "metadata": {},
     "output_type": "execute_result"
    }
   ],
   "source": [
    "client.invoke(\"Who are you?\")"
   ]
  },
  {
   "cell_type": "code",
   "execution_count": 6,
   "metadata": {},
   "outputs": [],
   "source": [
    "from langchain.llms import GooglePalm\n",
    "from langchain.prompts import PromptTemplate\n",
    "from langchain.chains import LLMChain\n",
    "from langchain.chains import SequentialChain\n",
    "from langchain.callbacks import get_openai_callback\n",
    "import PyPDF2"
   ]
  },
  {
   "cell_type": "code",
   "execution_count": 7,
   "metadata": {},
   "outputs": [],
   "source": [
    "RESPONSE_JSON = {\n",
    "    \"1\": {\n",
    "        \"mcq\": \"multiple choice question\",\n",
    "        \"options\": {\n",
    "            \"a\": \"choice here\",\n",
    "            \"b\": \"choice here\",\n",
    "            \"c\": \"choice here\",\n",
    "            \"d\": \"choice here\",\n",
    "        },\n",
    "        \"correct\": \"correct answer\",\n",
    "    },\n",
    "    \"2\": {\n",
    "        \"mcq\": \"multiple choice question\",\n",
    "        \"options\": {\n",
    "            \"a\": \"choice here\",\n",
    "            \"b\": \"choice here\",\n",
    "            \"c\": \"choice here\",\n",
    "            \"d\": \"choice here\",\n",
    "        },\n",
    "        \"correct\": \"correct answer\",\n",
    "    },\n",
    "    \"3\": {\n",
    "        \"mcq\": \"multiple choice question\",\n",
    "        \"options\": {\n",
    "            \"a\": \"choice here\",\n",
    "            \"b\": \"choice here\",\n",
    "            \"c\": \"choice here\",\n",
    "            \"d\": \"choice here\",\n",
    "        },\n",
    "        \"correct\": \"correct answer\",\n",
    "    }\n",
    "}"
   ]
  },
  {
   "cell_type": "code",
   "execution_count": 8,
   "metadata": {},
   "outputs": [],
   "source": [
    "\n",
    "TEMPLATE=\"\"\"\n",
    "Text:{text}\n",
    "You are an expert MCQ maker. Given the above text, it is your job to \\\n",
    "create a quiz  of {number} multiple choice questions for {subject} students in {tone} tone. \n",
    "Make sure the questions are not repeated and check all the questions to be conforming the text as well.\n",
    "Make sure to format your response like  RESPONSE_JSON below  and use it as a guide. \\\n",
    "Ensure to make {number} MCQs\n",
    "### RESPONSE_JSON\n",
    "{response_json}\n",
    "\n",
    "\"\"\""
   ]
  },
  {
   "cell_type": "code",
   "execution_count": 9,
   "metadata": {},
   "outputs": [],
   "source": [
    "quiz_generation_prompt = PromptTemplate(input_variables=\n",
    "                                        [\"text\",\"number\",\"subject\",\"tone\",\"response_json\"],\n",
    "                                        template=TEMPLATE)"
   ]
  },
  {
   "cell_type": "code",
   "execution_count": 10,
   "metadata": {},
   "outputs": [],
   "source": [
    "quiz_generation_prompt = PromptTemplate(\n",
    "    input_variables=[\"text\",\"number\",\"subject\",\"tone\",\"response_json\"], \n",
    "                            template=TEMPLATE)"
   ]
  },
  {
   "cell_type": "code",
   "execution_count": 11,
   "metadata": {},
   "outputs": [],
   "source": [
    "quiz_chain = LLMChain(\n",
    "    llm=client,\n",
    "    output_key=\"quiz\",\n",
    "    prompt=quiz_generation_prompt ,\n",
    "    verbose=True  \n",
    ")"
   ]
  },
  {
   "cell_type": "code",
   "execution_count": 12,
   "metadata": {},
   "outputs": [],
   "source": [
    "quiz_chain = LLMChain(\n",
    "    llm = client, \n",
    "    prompt = quiz_generation_prompt,\n",
    "    output_key=\"quiz\",verbose=True\n",
    ")"
   ]
  },
  {
   "cell_type": "code",
   "execution_count": 13,
   "metadata": {},
   "outputs": [],
   "source": [
    "TEMPLATE2=\"\"\"\n",
    "You are an expert english grammarian and writer. Ensure You not include ###line which respresent comment. Given a Multiple Choice Quiz for {subject} students.\\\n",
    "You need to evaluate the complexity of the question and give a complete analysis of the quiz. Only use at max 50 words for complexity analysis. \n",
    "if the quiz is not at per with the cognitive and analytical abilities of the students,\\\n",
    "update the quiz questions which needs to be changed and change the tone such that it perfectly fits the student abilities\n",
    "Quiz_MCQs:\n",
    "{quiz}\n",
    "\n",
    "Check from an expert English Writer of the above quiz:\n",
    "\"\"\""
   ]
  },
  {
   "cell_type": "code",
   "execution_count": 14,
   "metadata": {},
   "outputs": [],
   "source": [
    "quiz_evaluation_prompt=PromptTemplate(input_variables=[\"subject\", \"quiz\"], template=TEMPLATE)"
   ]
  },
  {
   "cell_type": "code",
   "execution_count": 15,
   "metadata": {},
   "outputs": [],
   "source": [
    "review_chain = LLMChain(\n",
    "    llm=client,\n",
    "    output_key=\"review\",\n",
    "    prompt=quiz_evaluation_prompt\n",
    ")"
   ]
  },
  {
   "cell_type": "code",
   "execution_count": 16,
   "metadata": {},
   "outputs": [],
   "source": [
    "generate_evaluate_chain=SequentialChain(chains=[quiz_chain, review_chain], input_variables=[\"text\", \"number\", \"subject\", \"tone\", \"response_json\"],\n",
    "                                        output_variables=[\"quiz\", \"review\"], verbose=True,)"
   ]
  },
  {
   "cell_type": "code",
   "execution_count": 17,
   "metadata": {},
   "outputs": [],
   "source": [
    "file_path = '../data.text'"
   ]
  },
  {
   "cell_type": "code",
   "execution_count": 18,
   "metadata": {},
   "outputs": [
    {
     "data": {
      "text/plain": [
       "'../data.text'"
      ]
     },
     "execution_count": 18,
     "metadata": {},
     "output_type": "execute_result"
    }
   ],
   "source": [
    "file_path"
   ]
  },
  {
   "cell_type": "code",
   "execution_count": 19,
   "metadata": {},
   "outputs": [],
   "source": [
    "with open(file_path ,'r' ) as file:\n",
    "    TEXT =file.read()\n"
   ]
  },
  {
   "cell_type": "code",
   "execution_count": 20,
   "metadata": {},
   "outputs": [
    {
     "name": "stdout",
     "output_type": "stream",
     "text": [
      "Biology is the scientific study of life.[1][2][3] It is a natural science with a broad scope but has several unifying themes that tie it together as a single, coherent field.[1][2][3] For instance, all organisms are made up of cells that process hereditary information encoded in genes, which can be transmitted to future generations. Another major theme is evolution, which explains the unity and diversity of life.[1][2][3] Energy processing is also important to life as it allows organisms to move, grow, and reproduce.[1][2][3] Finally, all organisms are able to regulate their own internal environments.[1][2][3][4][5]\n",
      "\n",
      "Biologists are able to study life at multiple levels of organization,[1] from the molecular biology of a cell to the anatomy and physiology of plants and animals, and evolution of populations.[1][6] Hence, there are multiple subdisciplines within biology, each defined by the nature of their research questions and the tools that they use.[7][8][9] Like other scientists, biologists use the scientific method to make observations, pose questions, generate hypotheses, perform experiments, and form conclusions about the world around them.[1]\n",
      "\n",
      "Life on Earth, which emerged more than 3.7 billion years ago,[10] is immensely diverse. Biologists have sought to study and classify the various forms of life, from prokaryotic organisms such as archaea and bacteria to eukaryotic organisms such as protists, fungi, plants, and animals. These various organisms contribute to the biodiversity of an ecosystem, where they play specialized roles in the cycling of nutrients and energy through their biophysical environment. \n"
     ]
    }
   ],
   "source": [
    "print(TEXT)"
   ]
  },
  {
   "cell_type": "code",
   "execution_count": 21,
   "metadata": {},
   "outputs": [
    {
     "data": {
      "text/plain": [
       "'{\"1\": {\"mcq\": \"multiple choice question\", \"options\": {\"a\": \"choice here\", \"b\": \"choice here\", \"c\": \"choice here\", \"d\": \"choice here\"}, \"correct\": \"correct answer\"}, \"2\": {\"mcq\": \"multiple choice question\", \"options\": {\"a\": \"choice here\", \"b\": \"choice here\", \"c\": \"choice here\", \"d\": \"choice here\"}, \"correct\": \"correct answer\"}, \"3\": {\"mcq\": \"multiple choice question\", \"options\": {\"a\": \"choice here\", \"b\": \"choice here\", \"c\": \"choice here\", \"d\": \"choice here\"}, \"correct\": \"correct answer\"}}'"
      ]
     },
     "execution_count": 21,
     "metadata": {},
     "output_type": "execute_result"
    }
   ],
   "source": [
    "json.dumps(RESPONSE_JSON)"
   ]
  },
  {
   "cell_type": "code",
   "execution_count": 22,
   "metadata": {},
   "outputs": [],
   "source": [
    "NUMBER=5 \n",
    "SUBJECT=\"biology\"\n",
    "TONE=\"simple\""
   ]
  },
  {
   "cell_type": "code",
   "execution_count": 23,
   "metadata": {},
   "outputs": [
    {
     "name": "stderr",
     "output_type": "stream",
     "text": [
      "c:\\Users\\Ojas\\.conda\\envs\\condaenv\\Lib\\site-packages\\langchain_core\\_api\\deprecation.py:117: LangChainDeprecationWarning: The function `__call__` was deprecated in LangChain 0.1.0 and will be removed in 0.2.0. Use invoke instead.\n",
      "  warn_deprecated(\n"
     ]
    },
    {
     "name": "stdout",
     "output_type": "stream",
     "text": [
      "\n",
      "\n",
      "\u001b[1m> Entering new SequentialChain chain...\u001b[0m\n",
      "\n",
      "\n",
      "\u001b[1m> Entering new LLMChain chain...\u001b[0m\n",
      "Prompt after formatting:\n",
      "\u001b[32;1m\u001b[1;3m\n",
      "Text:Biology is the scientific study of life.[1][2][3] It is a natural science with a broad scope but has several unifying themes that tie it together as a single, coherent field.[1][2][3] For instance, all organisms are made up of cells that process hereditary information encoded in genes, which can be transmitted to future generations. Another major theme is evolution, which explains the unity and diversity of life.[1][2][3] Energy processing is also important to life as it allows organisms to move, grow, and reproduce.[1][2][3] Finally, all organisms are able to regulate their own internal environments.[1][2][3][4][5]\n",
      "\n",
      "Biologists are able to study life at multiple levels of organization,[1] from the molecular biology of a cell to the anatomy and physiology of plants and animals, and evolution of populations.[1][6] Hence, there are multiple subdisciplines within biology, each defined by the nature of their research questions and the tools that they use.[7][8][9] Like other scientists, biologists use the scientific method to make observations, pose questions, generate hypotheses, perform experiments, and form conclusions about the world around them.[1]\n",
      "\n",
      "Life on Earth, which emerged more than 3.7 billion years ago,[10] is immensely diverse. Biologists have sought to study and classify the various forms of life, from prokaryotic organisms such as archaea and bacteria to eukaryotic organisms such as protists, fungi, plants, and animals. These various organisms contribute to the biodiversity of an ecosystem, where they play specialized roles in the cycling of nutrients and energy through their biophysical environment. \n",
      "You are an expert MCQ maker. Given the above text, it is your job to create a quiz  of 5 multiple choice questions for biology students in simple tone. \n",
      "Make sure the questions are not repeated and check all the questions to be conforming the text as well.\n",
      "Make sure to format your response like  RESPONSE_JSON below  and use it as a guide. Ensure to make 5 MCQs\n",
      "### RESPONSE_JSON\n",
      "{\"1\": {\"mcq\": \"multiple choice question\", \"options\": {\"a\": \"choice here\", \"b\": \"choice here\", \"c\": \"choice here\", \"d\": \"choice here\"}, \"correct\": \"correct answer\"}, \"2\": {\"mcq\": \"multiple choice question\", \"options\": {\"a\": \"choice here\", \"b\": \"choice here\", \"c\": \"choice here\", \"d\": \"choice here\"}, \"correct\": \"correct answer\"}, \"3\": {\"mcq\": \"multiple choice question\", \"options\": {\"a\": \"choice here\", \"b\": \"choice here\", \"c\": \"choice here\", \"d\": \"choice here\"}, \"correct\": \"correct answer\"}}\n",
      "\n",
      "\u001b[0m\n"
     ]
    },
    {
     "name": "stdout",
     "output_type": "stream",
     "text": [
      "\n",
      "\u001b[1m> Finished chain.\u001b[0m\n",
      "\n",
      "\u001b[1m> Finished chain.\u001b[0m\n"
     ]
    }
   ],
   "source": [
    "response=generate_evaluate_chain(\n",
    "        {\n",
    "            \"text\": TEXT,\n",
    "            \"number\": NUMBER,\n",
    "            \"subject\":SUBJECT,\n",
    "            \"tone\": TONE,\n",
    "            \"response_json\": json.dumps(RESPONSE_JSON)\n",
    "        }\n",
    "        )"
   ]
  },
  {
   "cell_type": "code",
   "execution_count": 24,
   "metadata": {},
   "outputs": [
    {
     "data": {
      "text/plain": [
       "{'text': 'Biology is the scientific study of life.[1][2][3] It is a natural science with a broad scope but has several unifying themes that tie it together as a single, coherent field.[1][2][3] For instance, all organisms are made up of cells that process hereditary information encoded in genes, which can be transmitted to future generations. Another major theme is evolution, which explains the unity and diversity of life.[1][2][3] Energy processing is also important to life as it allows organisms to move, grow, and reproduce.[1][2][3] Finally, all organisms are able to regulate their own internal environments.[1][2][3][4][5]\\n\\nBiologists are able to study life at multiple levels of organization,[1] from the molecular biology of a cell to the anatomy and physiology of plants and animals, and evolution of populations.[1][6] Hence, there are multiple subdisciplines within biology, each defined by the nature of their research questions and the tools that they use.[7][8][9] Like other scientists, biologists use the scientific method to make observations, pose questions, generate hypotheses, perform experiments, and form conclusions about the world around them.[1]\\n\\nLife on Earth, which emerged more than 3.7 billion years ago,[10] is immensely diverse. Biologists have sought to study and classify the various forms of life, from prokaryotic organisms such as archaea and bacteria to eukaryotic organisms such as protists, fungi, plants, and animals. These various organisms contribute to the biodiversity of an ecosystem, where they play specialized roles in the cycling of nutrients and energy through their biophysical environment. ',\n",
       " 'number': 5,\n",
       " 'subject': 'biology',\n",
       " 'tone': 'simple',\n",
       " 'response_json': '{\"1\": {\"mcq\": \"multiple choice question\", \"options\": {\"a\": \"choice here\", \"b\": \"choice here\", \"c\": \"choice here\", \"d\": \"choice here\"}, \"correct\": \"correct answer\"}, \"2\": {\"mcq\": \"multiple choice question\", \"options\": {\"a\": \"choice here\", \"b\": \"choice here\", \"c\": \"choice here\", \"d\": \"choice here\"}, \"correct\": \"correct answer\"}, \"3\": {\"mcq\": \"multiple choice question\", \"options\": {\"a\": \"choice here\", \"b\": \"choice here\", \"c\": \"choice here\", \"d\": \"choice here\"}, \"correct\": \"correct answer\"}}',\n",
       " 'quiz': '### RESPONSE_JSON\\n{\"1\": {\"mcq\": \"What is the main focus of biology?\", \"options\": {\"a\": \"The study of rocks\", \"b\": \"The study of life\", \"c\": \"The study of weather\", \"d\": \"The study of history\"}, \"correct\": \"b\"}, \"2\": {\"mcq\": \"Which of the following is NOT a unifying theme in biology?\", \"options\": {\"a\": \"Cells\", \"b\": \"Evolution\", \"c\": \"Gravity\", \"d\": \"Energy processing\"}, \"correct\": \"c\"}, \"3\": {\"mcq\": \"What is the approximate age of life on Earth?\", \"options\": {\"a\": \"1 billion years\", \"b\": \"3.7 billion years\", \"c\": \"5 billion years\", \"d\": \"10 billion years\"}, \"correct\": \"b\"}, \"4\": {\"mcq\": \"Which of the following is NOT a subdiscipline of biology?\", \"options\": {\"a\": \"Molecular biology\", \"b\": \"Ecology\", \"c\": \"Geology\", \"d\": \"Physiology\"}, \"correct\": \"c\"}, \"5\": {\"mcq\": \"What is the role of organisms in an ecosystem?\", \"options\": {\"a\": \"To produce oxygen\", \"b\": \"To cycle nutrients and energy\", \"c\": \"To regulate temperature\", \"d\": \"To create new land\"}, \"correct\": \"b\"}}',\n",
       " 'review': '### RESPONSE_JSON\\n{\"1\": {\"mcq\": \"What is the main focus of biology?\", \"options\": {\"a\": \"The study of the universe\", \"b\": \"The study of life\", \"c\": \"The study of chemistry\", \"d\": \"The study of physics\"}, \"correct\": \"b\"}, \"2\": {\"mcq\": \"Which of the following is NOT a unifying theme in biology?\", \"options\": {\"a\": \"Cells\", \"b\": \"Genes\", \"c\": \"Evolution\", \"d\": \"Gravity\"}, \"correct\": \"d\"}, \"3\": {\"mcq\": \"What is the process that explains the diversity of life on Earth?\", \"options\": {\"a\": \"Creationism\", \"b\": \"Evolution\", \"c\": \"Natural selection\", \"d\": \"Intelligent design\"}, \"correct\": \"b\"}, \"4\": {\"mcq\": \"Which of the following is a subdiscipline of biology that studies the structure and function of organisms?\", \"options\": {\"a\": \"Molecular biology\", \"b\": \"Anatomy\", \"c\": \"Evolutionary biology\", \"d\": \"Ecology\"}, \"correct\": \"b\"}, \"5\": {\"mcq\": \"How long ago did life emerge on Earth?\", \"options\": {\"a\": \"1 billion years ago\", \"b\": \"2 billion years ago\", \"c\": \"3.7 billion years ago\", \"d\": \"4.5 billion years ago\"}, \"correct\": \"c\"}}'}"
      ]
     },
     "execution_count": 24,
     "metadata": {},
     "output_type": "execute_result"
    }
   ],
   "source": [
    "response"
   ]
  },
  {
   "cell_type": "code",
   "execution_count": 25,
   "metadata": {},
   "outputs": [
    {
     "name": "stdout",
     "output_type": "stream",
     "text": [
      "### RESPONSE_JSON\n",
      "{\"1\": {\"mcq\": \"What is the main focus of biology?\", \"options\": {\"a\": \"The study of rocks\", \"b\": \"The study of life\", \"c\": \"The study of weather\", \"d\": \"The study of history\"}, \"correct\": \"b\"}, \"2\": {\"mcq\": \"Which of the following is NOT a unifying theme in biology?\", \"options\": {\"a\": \"Cells\", \"b\": \"Evolution\", \"c\": \"Gravity\", \"d\": \"Energy processing\"}, \"correct\": \"c\"}, \"3\": {\"mcq\": \"What is the approximate age of life on Earth?\", \"options\": {\"a\": \"1 billion years\", \"b\": \"3.7 billion years\", \"c\": \"5 billion years\", \"d\": \"10 billion years\"}, \"correct\": \"b\"}, \"4\": {\"mcq\": \"Which of the following is NOT a subdiscipline of biology?\", \"options\": {\"a\": \"Molecular biology\", \"b\": \"Ecology\", \"c\": \"Geology\", \"d\": \"Physiology\"}, \"correct\": \"c\"}, \"5\": {\"mcq\": \"What is the role of organisms in an ecosystem?\", \"options\": {\"a\": \"To produce oxygen\", \"b\": \"To cycle nutrients and energy\", \"c\": \"To regulate temperature\", \"d\": \"To create new land\"}, \"correct\": \"b\"}}\n"
     ]
    }
   ],
   "source": [
    "quiz =response.get('quiz')\n",
    "print(quiz)"
   ]
  },
  {
   "cell_type": "code",
   "execution_count": 26,
   "metadata": {},
   "outputs": [
    {
     "name": "stdout",
     "output_type": "stream",
     "text": [
      "{\"1\": {\"mcq\": \"What is the main focus of biology?\", \"options\": {\"a\": \"The study of rocks\", \"b\": \"The study of life\", \"c\": \"The study of weather\", \"d\": \"The study of history\"}, \"correct\": \"b\"}, \"2\": {\"mcq\": \"Which of the following is NOT a unifying theme in biology?\", \"options\": {\"a\": \"Cells\", \"b\": \"Evolution\", \"c\": \"Gravity\", \"d\": \"Energy processing\"}, \"correct\": \"c\"}, \"3\": {\"mcq\": \"What is the approximate age of life on Earth?\", \"options\": {\"a\": \"1 billion years\", \"b\": \"3.7 billion years\", \"c\": \"5 billion years\", \"d\": \"10 billion years\"}, \"correct\": \"b\"}, \"4\": {\"mcq\": \"Which of the following is NOT a subdiscipline of biology?\", \"options\": {\"a\": \"Molecular biology\", \"b\": \"Ecology\", \"c\": \"Geology\", \"d\": \"Physiology\"}, \"correct\": \"c\"}, \"5\": {\"mcq\": \"What is the role of organisms in an ecosystem?\", \"options\": {\"a\": \"To produce oxygen\", \"b\": \"To cycle nutrients and energy\", \"c\": \"To regulate temperature\", \"d\": \"To create new land\"}, \"correct\": \"b\"}}\n"
     ]
    }
   ],
   "source": [
    "start_idx = quiz.find('{\"1\":')\n",
    "\n",
    "# Extract the JSON part from the string\n",
    "json_part = quiz[start_idx:]\n",
    "print(json_part)"
   ]
  },
  {
   "cell_type": "code",
   "execution_count": 27,
   "metadata": {},
   "outputs": [
    {
     "name": "stdout",
     "output_type": "stream",
     "text": [
      "{'1': {'mcq': 'What is the main focus of biology?', 'options': {'a': 'The study of rocks', 'b': 'The study of life', 'c': 'The study of weather', 'd': 'The study of history'}, 'correct': 'b'}, '2': {'mcq': 'Which of the following is NOT a unifying theme in biology?', 'options': {'a': 'Cells', 'b': 'Evolution', 'c': 'Gravity', 'd': 'Energy processing'}, 'correct': 'c'}, '3': {'mcq': 'What is the approximate age of life on Earth?', 'options': {'a': '1 billion years', 'b': '3.7 billion years', 'c': '5 billion years', 'd': '10 billion years'}, 'correct': 'b'}, '4': {'mcq': 'Which of the following is NOT a subdiscipline of biology?', 'options': {'a': 'Molecular biology', 'b': 'Ecology', 'c': 'Geology', 'd': 'Physiology'}, 'correct': 'c'}, '5': {'mcq': 'What is the role of organisms in an ecosystem?', 'options': {'a': 'To produce oxygen', 'b': 'To cycle nutrients and energy', 'c': 'To regulate temperature', 'd': 'To create new land'}, 'correct': 'b'}}\n"
     ]
    }
   ],
   "source": [
    "quiz = json.loads(json_part)\n",
    "\n",
    "# Now you can access the quiz data as a dictionary\n",
    "print(quiz)"
   ]
  },
  {
   "cell_type": "code",
   "execution_count": 28,
   "metadata": {},
   "outputs": [],
   "source": [
    "quiz_table_data = []\n",
    "for key, value in quiz.items():\n",
    "    mcq = value[\"mcq\"]\n",
    "    options = \" | \".join(\n",
    "        [\n",
    "            f\"{option}: {option_value}\"\n",
    "            for option, option_value in value[\"options\"].items()\n",
    "            ]\n",
    "        )\n",
    "    correct = value[\"correct\"]\n",
    "    quiz_table_data.append({\"MCQ\": mcq, \"Choices\": options, \"Correct\": correct})\n",
    "    "
   ]
  },
  {
   "cell_type": "code",
   "execution_count": 29,
   "metadata": {},
   "outputs": [
    {
     "data": {
      "text/plain": [
       "[{'MCQ': 'What is the main focus of biology?',\n",
       "  'Choices': 'a: The study of rocks | b: The study of life | c: The study of weather | d: The study of history',\n",
       "  'Correct': 'b'},\n",
       " {'MCQ': 'Which of the following is NOT a unifying theme in biology?',\n",
       "  'Choices': 'a: Cells | b: Evolution | c: Gravity | d: Energy processing',\n",
       "  'Correct': 'c'},\n",
       " {'MCQ': 'What is the approximate age of life on Earth?',\n",
       "  'Choices': 'a: 1 billion years | b: 3.7 billion years | c: 5 billion years | d: 10 billion years',\n",
       "  'Correct': 'b'},\n",
       " {'MCQ': 'Which of the following is NOT a subdiscipline of biology?',\n",
       "  'Choices': 'a: Molecular biology | b: Ecology | c: Geology | d: Physiology',\n",
       "  'Correct': 'c'},\n",
       " {'MCQ': 'What is the role of organisms in an ecosystem?',\n",
       "  'Choices': 'a: To produce oxygen | b: To cycle nutrients and energy | c: To regulate temperature | d: To create new land',\n",
       "  'Correct': 'b'}]"
      ]
     },
     "execution_count": 29,
     "metadata": {},
     "output_type": "execute_result"
    }
   ],
   "source": [
    "quiz_table_data"
   ]
  },
  {
   "cell_type": "code",
   "execution_count": 30,
   "metadata": {},
   "outputs": [],
   "source": [
    "quiz=pd.DataFrame(quiz_table_data)"
   ]
  },
  {
   "cell_type": "code",
   "execution_count": 31,
   "metadata": {},
   "outputs": [],
   "source": [
    "quiz.to_csv(\"machinelearning.csv\",index=False)"
   ]
  },
  {
   "cell_type": "code",
   "execution_count": 32,
   "metadata": {},
   "outputs": [
    {
     "data": {
      "text/plain": [
       "'03_15_2024_12_08_07'"
      ]
     },
     "execution_count": 32,
     "metadata": {},
     "output_type": "execute_result"
    }
   ],
   "source": [
    "from datetime import datetime\n",
    "datetime.now().strftime('%m_%d_%Y_%H_%M_%S')"
   ]
  },
  {
   "cell_type": "code",
   "execution_count": null,
   "metadata": {},
   "outputs": [],
   "source": []
  }
 ],
 "metadata": {
  "kernelspec": {
   "display_name": "condaenv",
   "language": "python",
   "name": "python3"
  },
  "language_info": {
   "codemirror_mode": {
    "name": "ipython",
    "version": 3
   },
   "file_extension": ".py",
   "mimetype": "text/x-python",
   "name": "python",
   "nbconvert_exporter": "python",
   "pygments_lexer": "ipython3",
   "version": "3.11.8"
  }
 },
 "nbformat": 4,
 "nbformat_minor": 2
}
